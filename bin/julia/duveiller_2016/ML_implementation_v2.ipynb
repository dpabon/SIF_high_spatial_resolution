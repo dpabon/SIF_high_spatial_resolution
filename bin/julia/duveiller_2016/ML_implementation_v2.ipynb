{
 "cells": [
  {
   "cell_type": "markdown",
   "id": "b337190d-f91b-48e7-90cb-c2ad50c98cca",
   "metadata": {},
   "source": [
    "# SIF Downscaling v2 (including time dimenssion)"
   ]
  },
  {
   "cell_type": "markdown",
   "id": "f41a3739-e3eb-49e0-9b74-a2d3f5262940",
   "metadata": {},
   "source": [
    "## Dependencies"
   ]
  },
  {
   "cell_type": "code",
   "execution_count": 4,
   "id": "b04bc2c9-57a7-4be0-9a12-603d4af96b40",
   "metadata": {},
   "outputs": [
    {
     "name": "stderr",
     "output_type": "stream",
     "text": [
      "\u001b[32m\u001b[1m  Activating\u001b[22m\u001b[39m project at `/Net/Groups/BGI/work_3/OEMC/oemc_sif/bin`\n"
     ]
    }
   ],
   "source": [
    "using Pkg\n",
    "\n",
    "Pkg.activate(\"/Net/Groups/BGI/work_3/OEMC/oemc_sif/bin\")\n",
    "\n",
    "using LinearAlgebra, Optim, Plots, Dates\n",
    "\n",
    "using DimensionalData, YAXArrays, Zarr, Statistics, LineSearches\n",
    "\n",
    "using Rasters: Center\n",
    "using Rasters\n",
    "\n",
    "using MLJ, DataFrames, Tidier, StatsPlots, PlotlyJS"
   ]
  },
  {
   "cell_type": "code",
   "execution_count": 10,
   "id": "32f324a4-2f55-45ec-b89a-7eaf84e7f513",
   "metadata": {},
   "outputs": [
    {
     "ename": "LoadError",
     "evalue": "UndefVarError: `ls` not defined",
     "output_type": "error",
     "traceback": [
      "UndefVarError: `ls` not defined",
      "",
      "Stacktrace:",
      " [1] top-level scope",
      "   @ In[10]:1"
     ]
    }
   ],
   "source": []
  },
  {
   "cell_type": "markdown",
   "id": "1cab5abf-3e46-48ae-b91c-1c3e0c3a1b39",
   "metadata": {},
   "source": [
    "## Data"
   ]
  },
  {
   "cell_type": "code",
   "execution_count": 5,
   "id": "ab0f2f8e-da6b-4d79-8bf8-ff276ca83ea0",
   "metadata": {},
   "outputs": [
    {
     "data": {
      "text/plain": [
       "4800×4800×138×10 YAXArray{Float32,4}\u001b[90m with dimensions: \u001b[39m\n",
       "  \u001b[31mX\u001b[39m Sampled{Int64} \u001b[36m1:1:4800\u001b[39m ForwardOrdered Regular Points,\n",
       "  \u001b[31mY\u001b[39m Sampled{Int64} \u001b[36m1:1:4800\u001b[39m ForwardOrdered Regular Points,\n",
       "  \u001b[31mTi\u001b[39m Sampled{DateTime} \u001b[36mDateTime[2018-01-04T00:00:00, …, 2020-12-29T00:00:00]\u001b[39m ForwardOrdered Irregular Points,\n",
       "  \u001b[31mDim{\u001b[39m\u001b[33m:Variable\u001b[39m\u001b[31m}\u001b[39m Categorical{String} \u001b[36mString[RC865, lat, …, OGVI_sigma, RC681_sigma]\u001b[39m Unordered\n",
       "Total size: 118.45 GB\n"
      ]
     },
     "execution_count": 5,
     "metadata": {},
     "output_type": "execute_result"
    }
   ],
   "source": [
    "### SIF low resolution\n",
    "sif_cube = Cube(open_dataset(\"/Net/Groups/BGI/work_3/OEMC/oemc_sif/data/SIF_TROPOMI_gridded_10km_filtered_europe_2018-05-04_2020-12-26.zarr/\"))\n",
    "\n",
    "### lst\n",
    "\n",
    "lst_cube = Cube(open_dataset(\"/Net/Groups/BGI/work_3/OEMC/oemc_sif/data/LST_Sentinel3_gridded_1km_europe_2018-01-04_2020-12-29.zarr/\"))\n",
    "\n",
    "\n",
    "### (WATER) MODIS NDWI\n",
    "\n",
    "modis_cube = Cube(open_dataset(\"/Net/Groups/BGI/work_3/OEMC/oemc_sif/data/MC43A4_gridded_1km_europe_2018-05-01_2020-12-31_YAXA.zarr/\"))\n",
    "\n",
    "### (VEGETATION) Sentinel-3 OTCI (Terrestrial Chlorophyll Index)\n",
    "\n",
    "\n",
    "sentinel_3_cube = Cube(open_dataset(\"/Net/Groups/BGI/work_3/OEMC/oemc_sif/data/OLCI_Sentinel3_gridded_1km_europe_2018-01-04_2020-12-29.zarr/\"))"
   ]
  },
  {
   "cell_type": "markdown",
   "id": "e060237a-3d3c-422f-a0cd-740a6565646e",
   "metadata": {},
   "source": [
    "Computing NDWI"
   ]
  },
  {
   "cell_type": "code",
   "execution_count": 6,
   "id": "d3ad1980-6ffd-48db-be1c-35d4f57f716f",
   "metadata": {},
   "outputs": [
    {
     "data": {
      "text/plain": [
       "OutDims((YAXArrays.ByValue(Dim{:Variable, Vector{String}}([\"NDWI\"])),), :auto, Base.Pairs{Symbol, Union{}, Tuple{}, NamedTuple{(), Tuple{}}}(), false, Array, :input, 1)"
      ]
     },
     "execution_count": 6,
     "metadata": {},
     "output_type": "execute_result"
    }
   ],
   "source": [
    "function ndwi(out, b4,b2)\n",
    "    if !isnan.(b4) && !isnan.(b2) && !isinf.(b4) && !isinf.(b2)\n",
    "        out .= (b4[:]-b2[:])/(b4[:] + b2[:])\n",
    "\n",
    "    else\n",
    "        out .= NaN32\n",
    "    end\n",
    "end\n",
    "\n",
    "indims = (InDims(), InDims())\n",
    "\n",
    "outdims = OutDims(Dim{:Variable}([\"NDWI\"]))"
   ]
  },
  {
   "cell_type": "code",
   "execution_count": null,
   "id": "7c732c98-0e36-4048-b880-245397969618",
   "metadata": {},
   "outputs": [
    {
     "name": "stderr",
     "output_type": "stream",
     "text": [
      "\u001b[32mProgress:  26%|██████████▋                              |  ETA: 0:44:16\u001b[39m"
     ]
    }
   ],
   "source": [
    "ndwi_cube_high = mapCube(ndwi, (modis_cube[Variable = At(\"4\")], modis_cube[Variable = At(\"2\")]), indims = indims, outdims=outdims)"
   ]
  },
  {
   "cell_type": "code",
   "execution_count": null,
   "id": "d438bb34-47e3-43e2-b21a-76c85f67ac7c",
   "metadata": {},
   "outputs": [],
   "source": [
    "# quick check\n",
    "heatmap(ndwi_cube_high.data[:,:,3,1])"
   ]
  },
  {
   "cell_type": "code",
   "execution_count": null,
   "id": "b1090f35-0383-46f3-81ba-5696a45a9934",
   "metadata": {},
   "outputs": [],
   "source": []
  }
 ],
 "metadata": {
  "kernelspec": {
   "display_name": "Julia (40 threads) 1.9.3",
   "language": "julia",
   "name": "julia-_40-threads_-1.9"
  },
  "language_info": {
   "file_extension": ".jl",
   "mimetype": "application/julia",
   "name": "julia",
   "version": "1.9.3"
  }
 },
 "nbformat": 4,
 "nbformat_minor": 5
}
