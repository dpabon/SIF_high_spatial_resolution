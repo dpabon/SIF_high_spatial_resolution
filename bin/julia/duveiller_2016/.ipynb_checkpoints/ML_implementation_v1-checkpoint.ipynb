{
 "cells": [
  {
   "cell_type": "code",
   "execution_count": null,
   "id": "b636f6b0-87fd-4858-9f76-a9fc5068a824",
   "metadata": {},
   "outputs": [],
   "source": [
    "### Dependencies"
   ]
  },
  {
   "cell_type": "code",
   "execution_count": null,
   "id": "e095238a-0d69-4747-94fe-b8468a99507f",
   "metadata": {},
   "outputs": [],
   "source": [
    "using Pkg\n",
    "\n",
    "Pkg.activate(\"/Net/Groups/BGI/work_3/OEMC/oemc_sif/bin/jupyter_packages/\")\n",
    "\n",
    "using LinearAlgebra, Optim, Plots, Dates\n",
    "\n",
    "using DimensionalData, YAXArrays, Zarr, Statistics, LineSearches, Revise\n",
    "\n",
    "using Rasters: Center\n",
    "using Rasters\n",
    "\n",
    "using MLJ, DataFrames, Tidier, StatsPlots, PlotlyJS"
   ]
  },
  {
   "cell_type": "code",
   "execution_count": null,
   "id": "82aeda7d-b672-4f98-aa0e-0af4b8280277",
   "metadata": {},
   "outputs": [],
   "source": [
    "# data at low resolution"
   ]
  },
  {
   "cell_type": "code",
   "execution_count": null,
   "id": "3c3a8c7e-ab1c-4c02-a838-1cd1783658c9",
   "metadata": {},
   "outputs": [],
   "source": [
    "lst_cube_low = Cube(open_dataset(\"/Net/Groups/BGI/work_3/OEMC/oemc_sif/data/low_res/lst_cube_low_july.zarr\"))\n",
    "\n",
    "ndwi_cube_low = Cube(open_dataset(\"/Net/Groups/BGI/work_3/OEMC/oemc_sif/data/low_res/ndwi_cube_low_july.zarr\"))\n",
    "\n",
    "\n",
    "ogvi_cube_low = Cube(open_dataset(\"/Net/Groups/BGI/work_3/OEMC/oemc_sif/data/low_res/ogvi_cube_low_july.zarr\"))\n",
    "\n",
    "\n",
    "sif_cube_low_july = Cube(open_dataset(\"/Net/Groups/BGI/work_3/OEMC/oemc_sif/data/sif_cube_low_july.zarr\"))"
   ]
  },
  {
   "cell_type": "code",
   "execution_count": null,
   "id": "f36dc8ce-5ca0-4387-8d77-35caea4611d3",
   "metadata": {},
   "outputs": [],
   "source": [
    "# creating a dataframe with the information"
   ]
  },
  {
   "cell_type": "code",
   "execution_count": null,
   "id": "66808594-b13a-4522-bf5c-9807f11d8f39",
   "metadata": {},
   "outputs": [],
   "source": [
    "low_res_df = CubeTable(lst = lst_cube_low, ndwi = ndwi_cube_low, ogvi = ogvi_cube_low, sif = sif_cube_low_july)\n",
    "\n",
    "final_df = DataFrame(low_res_df[1])\n",
    "\n",
    "# converting to longer format to filter easier\n",
    "\n",
    "df_post = @chain final_df begin\n",
    "    @pivot_longer(lst:sif, names_to = \"variable\", values_to = \"value\")\n",
    "    @filter(!isnan(value))\n",
    "    @pivot_wider(names_from = variable, values_from = value)\n",
    "    @drop_missing()\n",
    "end"
   ]
  },
  {
   "cell_type": "code",
   "execution_count": null,
   "id": "5f8f6722-b760-408a-be69-0dfc7957e74d",
   "metadata": {},
   "outputs": [],
   "source": [
    "#@df df_post corrplot(cols(3:6))"
   ]
  },
  {
   "cell_type": "code",
   "execution_count": null,
   "id": "3dde24cd-76fb-4d2c-a419-bac997c62088",
   "metadata": {},
   "outputs": [],
   "source": [
    "features = [:lst, :ndwi, :ogvi, :sif]\n",
    "\n",
    "# pair plot\n",
    "\n",
    "PlotlyJS.plot(df_post, dimensions=features, kind=\"splom\", marker=attr(opacity = 0.3, color = \"black\"))"
   ]
  },
  {
   "cell_type": "code",
   "execution_count": null,
   "id": "d536dd9f-9de3-4573-a557-e1a1470ca785",
   "metadata": {},
   "outputs": [],
   "source": [
    "sif, predictors = unpack(df_post[:,3:6], ==(:sif); rng=123);"
   ]
  },
  {
   "cell_type": "code",
   "execution_count": null,
   "id": "315c158b-e9f4-4880-a9ba-1d18a7440b84",
   "metadata": {},
   "outputs": [],
   "source": [
    "# Checking which ML models we can use\n",
    "\n",
    "models(matching(predictors,sif))"
   ]
  },
  {
   "cell_type": "code",
   "execution_count": null,
   "id": "87939a21-91b8-4e3c-bd59-20ad3a27848f",
   "metadata": {},
   "outputs": [],
   "source": [
    "# I will focus XGBoostRegressor as a first approach\n",
    "\n",
    "doc(\"XGBoostRegressor\", pkg=\"XGBoost\")"
   ]
  },
  {
   "cell_type": "code",
   "execution_count": null,
   "id": "35947707-bde9-4afb-9b70-9ee945c51e0f",
   "metadata": {},
   "outputs": [],
   "source": [
    "info(\"XGBoostRegressor\", pkg=\"XGBoost\")"
   ]
  },
  {
   "cell_type": "code",
   "execution_count": null,
   "id": "b45b1968-31f5-48a1-b0f4-9f464a230acc",
   "metadata": {},
   "outputs": [],
   "source": [
    "XGBoostRegressor = @load XGBoostRegressor pkg=XGBoost\n",
    "\n",
    "xgb = XGBoostRegressor()\n",
    "\n",
    "evaluate(xgb, predictors, sif,\n",
    "resampling=CV(nfolds = 10),\n",
    "measure=[RootMeanSquaredError(), LPLoss()])"
   ]
  },
  {
   "cell_type": "code",
   "execution_count": null,
   "id": "5430b65f-4d09-417e-aca9-79bcd8a801c0",
   "metadata": {},
   "outputs": [],
   "source": []
  },
  {
   "cell_type": "code",
   "execution_count": null,
   "id": "e2337ca7-8650-4afe-bc40-4362939faecf",
   "metadata": {},
   "outputs": [],
   "source": [
    "# Tuning model hyperparameters\n",
    "\n",
    "xgb_m = EnsembleModel(model = xgb)\n",
    "\n",
    "#=\n",
    "from kaggle (https://www.kaggle.com/code/prashant111/a-guide-on-xgboost-hyperparameters-tuning/notebook)\n",
    "\n",
    " space={'max_depth': hp.quniform(\"max_depth\", 3, 18, 1),\n",
    "        'gamma': hp.uniform ('gamma', 1,9),\n",
    "        'reg_alpha' : hp.quniform('reg_alpha', 40,180,1),\n",
    "        'reg_lambda' : hp.uniform('reg_lambda', 0,1),\n",
    "        'colsample_bytree' : hp.uniform('colsample_bytree', 0.5,1),\n",
    "        'min_child_weight' : hp.quniform('min_child_weight', 0, 10, 1),\n",
    "        'n_estimators': 180,\n",
    "        'seed': 0\n",
    "    }\n",
    "=#\n",
    "\n",
    "# grid\n",
    "\n",
    "r1 = range(xgb_m, :(model.max_depth), lower=3, upper=18);\n",
    "r2 = range(xgb_m, :(model.gamma), lower=1, upper=9);\n",
    "r3 = range(xgb_m, :(model.alpha), lower=40, upper=180);\n",
    "r4 = range(xgb_m, :(model.lambda), lower=0, upper=1);\n",
    "r5 = range(xgb_m, :(model.colsample_bytree), lower = 0.5, upper =1);\n",
    "r6 = range(xgb_m, :(model.min_child_weight), lower = 0, upper =10);"
   ]
  },
  {
   "cell_type": "code",
   "execution_count": null,
   "id": "95ee2d7e-13d8-4c63-bd4f-029c7f172552",
   "metadata": {},
   "outputs": [],
   "source": [
    "self_tuning_xgbost = TunedModel(\n",
    "    model=xgb_m,\n",
    "    tuning=Grid(goal=30),\n",
    "    resampling=CV(nfolds=10),\n",
    "    range=[r1, r2, r3, r4, r5, r6],\n",
    "    measure=RootMeanSquaredError());\n",
    "\n",
    "mach = machine(self_tuning_xgbost, predictors, sif);"
   ]
  },
  {
   "cell_type": "code",
   "execution_count": null,
   "id": "ab8d46e6-4ae3-4b90-b487-fad5b364b22d",
   "metadata": {},
   "outputs": [],
   "source": [
    "#fit!(mach, verbosity=1);"
   ]
  },
  {
   "cell_type": "code",
   "execution_count": null,
   "id": "3e3dff94-834f-4998-94a3-afb0dc40c72f",
   "metadata": {},
   "outputs": [],
   "source": []
  },
  {
   "cell_type": "code",
   "execution_count": null,
   "id": "05c293cd-4a4c-4b3b-9499-d961a3c35a57",
   "metadata": {},
   "outputs": [],
   "source": [
    "Plots.plot(mach)\n",
    "\n",
    "report(mach)"
   ]
  },
  {
   "cell_type": "code",
   "execution_count": null,
   "id": "9b9fec4a-ab02-42c8-8084-cd9fefc584e0",
   "metadata": {},
   "outputs": [],
   "source": [
    "#MLJ.save(\"/Net/Groups/BGI/work_3/OEMC/oemc_sif/results/model_xgboost_v1.jls\", mach.model)"
   ]
  },
  {
   "cell_type": "code",
   "execution_count": null,
   "id": "f1d3c6b1-7662-482e-acdc-71709ae8be78",
   "metadata": {},
   "outputs": [],
   "source": [
    "mach = machine(\"/Net/Groups/BGI/work_3/OEMC/oemc_sif/results/model_xgboost_v1.jls\")"
   ]
  },
  {
   "cell_type": "code",
   "execution_count": null,
   "id": "ebea2de0-5ca4-4287-82c9-9c66c262f5fb",
   "metadata": {},
   "outputs": [],
   "source": [
    "####### Downscaling SIF #############\n",
    "\n",
    "\n",
    "lst_cube_high_july = Cube(open_dataset(\"/Net/Groups/BGI/work_3/OEMC/oemc_sif/data/lst_cube_high_july.zarr\"))\n",
    "\n",
    "ogvi_cube_high_july = Cube(open_dataset(\"/Net/Groups/BGI/work_3/OEMC/oemc_sif/data/ogvi_cube_high_july.zarr\"))\n",
    "\n",
    "ndwi_cube_high_july = Cube(open_dataset(\"/Net/Groups/BGI/work_3/OEMC/oemc_sif/data/ndwi_cube_high_july.zarr\"))"
   ]
  },
  {
   "cell_type": "code",
   "execution_count": null,
   "id": "7dd3571e-329f-4d9c-b94d-1c4547b19802",
   "metadata": {},
   "outputs": [],
   "source": [
    "predict(mach, DataFrame(lst=200, ndwi=0.3, ogvi=0.5))\n",
    "\n",
    "\n",
    "indims = (InDims(),InDims(),InDims())\n",
    "outdims = (OutDims())\n",
    "\n",
    "function sif_downscaling(xout, lst, ndwi, ogvi; model)\n",
    "    \n",
    "    if all(!ismissing, [lst[1], ogvi[1], ndwi[1]]) && all(!isnan, [lst[1], ogvi[1], ndwi[1]])\n",
    "        xout .= predict(model, DataFrame(lst=lst[1], ndwi = ndwi[1], ogvi = ogvi[1]))\n",
    "    end\n",
    "end"
   ]
  },
  {
   "cell_type": "code",
   "execution_count": null,
   "id": "d43523d8-d44d-429a-a74c-ed25a9dc5013",
   "metadata": {},
   "outputs": [],
   "source": [
    "#downscaled_cube = mapCube(sif_downscaling, (lst_cube_high_july, ndwi_cube_high_july, ogvi_cube_high_july), indims = indims, outdims = outdims, showprog=true; model = mach)"
   ]
  },
  {
   "cell_type": "code",
   "execution_count": null,
   "id": "69992279-9417-4bda-a560-48d27e291f76",
   "metadata": {},
   "outputs": [],
   "source": []
  }
 ],
 "metadata": {
  "@webio": {
   "lastCommId": "af593b4e-c82a-4216-b3e5-7d42d85e1511",
   "lastKernelId": "dfd65588-c514-4ff6-953a-68848e15ced6"
  },
  "kernelspec": {
   "display_name": "Julia (40 threads) 1.9.3",
   "language": "julia",
   "name": "julia-_40-threads_-1.9"
  },
  "language_info": {
   "file_extension": ".jl",
   "mimetype": "application/julia",
   "name": "julia",
   "version": "1.9.3"
  }
 },
 "nbformat": 4,
 "nbformat_minor": 5
}
